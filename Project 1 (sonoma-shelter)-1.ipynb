{
  "nbformat": 4,
  "nbformat_minor": 0,
  "metadata": {
    "colab": {
      "name": "sonoma-shelter.ipynb",
      "provenance": [],
      "collapsed_sections": []
    },
    "kernelspec": {
      "name": "python3",
      "display_name": "Python 3"
    },
    "language_info": {
      "name": "python"
    }
  },
  "cells": [
    {
      "cell_type": "markdown",
      "source": [
        "# Analyzing Adoption and Death Rates of Dogs at Sonoma County Animal Shelter"
      ],
      "metadata": {
        "id": "kygAPuydKd_c"
      }
    },
    {
      "cell_type": "markdown",
      "source": [
        "Khushi Sharma and Nyra Usi - 04/15/2022"
      ],
      "metadata": {
        "id": "74lolE0xKiIF"
      }
    },
    {
      "cell_type": "markdown",
      "source": [
        "# Introduction"
      ],
      "metadata": {
        "id": "dVSLap7xK4yX"
      }
    },
    {
      "cell_type": "markdown",
      "source": [
        "We examine tens of thousands of data about the animals in Sonoma County Animal Services. More specifically, we observe what affects adoption, give-up (meaning the owner surrendered a dog or returned an adopted dog), and death rates for dogs at Sonoma County Animal Services. For adoption and give-up rates, we find the relation between those rates and time (months), biological data (sex, size, age, and health), and COVID-19. For death, we find the relation between those rates and biological data (age and health) on intake, time(duration of stay), adoption rates, and COVID-19. \n",
        "\n",
        "All of the information above is found on a dataset on the website, data.sonomacounty.ca.gov. The data details animals (their identification and biological data) and their situations coming in and out of Sonoma County Animal Services (their intake/outcome condition, location, and type). The County of Sonoma Department of Health Services provides the data for the dataset and the dataset was originally created on February 2, 2017 and has been updated daily since."
      ],
      "metadata": {
        "id": "ngxslQrGK8GC"
      }
    },
    {
      "cell_type": "code",
      "source": [
        "import numpy as np\n",
        "import pandas as pd\n",
        "import matplotlib.pyplot as plt\n",
        "import seaborn as sns"
      ],
      "metadata": {
        "id": "u_llCyR3MORf"
      },
      "execution_count": 1,
      "outputs": []
    },
    {
      "cell_type": "markdown",
      "source": [
        "# Inital Data Exploration"
      ],
      "metadata": {
        "id": "1Xwi54XHMQyQ"
      }
    },
    {
      "cell_type": "code",
      "source": [
        "df = pd.read_csv('https://raw.githubusercontent.com/grbruns/cst383/master/sonoma-shelter-12-2022.csv')"
      ],
      "metadata": {
        "id": "4fCmk3F3MdK3"
      },
      "execution_count": 2,
      "outputs": []
    },
    {
      "cell_type": "markdown",
      "source": [
        "Here we explore and answer questions about the initial data."
      ],
      "metadata": {
        "id": "oEeHNiyAOiEI"
      }
    },
    {
      "cell_type": "markdown",
      "source": [
        "For example, how big is the data? Essentially, how many rows and columns are there? \n",
        "\n",
        "And what are the types of the columns?"
      ],
      "metadata": {
        "id": "gpa6bOWWM466"
      }
    },
    {
      "cell_type": "code",
      "source": [
        "df.info()"
      ],
      "metadata": {
        "colab": {
          "base_uri": "https://localhost:8080/"
        },
        "id": "XDcxUnPeNeiG",
        "outputId": "a964164f-0647-43ff-dd47-d87ecf921301"
      },
      "execution_count": 3,
      "outputs": [
        {
          "output_type": "stream",
          "name": "stdout",
          "text": [
            "<class 'pandas.core.frame.DataFrame'>\n",
            "RangeIndex: 22108 entries, 0 to 22107\n",
            "Data columns (total 24 columns):\n",
            " #   Column                Non-Null Count  Dtype  \n",
            "---  ------                --------------  -----  \n",
            " 0   Name                  16406 non-null  object \n",
            " 1   Type                  22108 non-null  object \n",
            " 2   Breed                 22108 non-null  object \n",
            " 3   Color                 22108 non-null  object \n",
            " 4   Sex                   22108 non-null  object \n",
            " 5   Size                  22075 non-null  object \n",
            " 6   Date Of Birth         16709 non-null  object \n",
            " 7   Impound Number        22108 non-null  object \n",
            " 8   Kennel Number         22099 non-null  object \n",
            " 9   Animal ID             22108 non-null  object \n",
            " 10  Intake Date           22108 non-null  object \n",
            " 11  Outcome Date          21972 non-null  object \n",
            " 12  Days in Shelter       22108 non-null  int64  \n",
            " 13  Intake Type           22108 non-null  object \n",
            " 14  Intake Subtype        22108 non-null  object \n",
            " 15  Outcome Type          21966 non-null  object \n",
            " 16  Outcome Subtype       21667 non-null  object \n",
            " 17  Intake Condition      22108 non-null  object \n",
            " 18  Outcome Condition     21637 non-null  object \n",
            " 19  Intake Jurisdiction   22108 non-null  object \n",
            " 20  Outcome Jurisdiction  19003 non-null  object \n",
            " 21  Outcome Zip Code      18924 non-null  float64\n",
            " 22  Location              18924 non-null  object \n",
            " 23  Count                 22108 non-null  int64  \n",
            "dtypes: float64(1), int64(2), object(21)\n",
            "memory usage: 4.0+ MB\n"
          ]
        }
      ]
    },
    {
      "cell_type": "markdown",
      "source": [
        "There are 22108 entries/rows and 24 columns. Of those 24 columns, 21 are object type, 2 are int type, and 1 is float type. \n",
        "\n",
        "The columns with int type are 'Days in Shelter' and 'Count'.\n",
        "The column with float type is 'Outcome Zip Code'. We mark this as an anomaly because arithmetic is not done on zip codes and zip codes do not usually have decimals. We think this column would be better suited as an object type.\n",
        "\n",
        "The rest of the columns are object type.\n",
        "\n"
      ],
      "metadata": {
        "id": "UJz1jrqoNfT9"
      }
    },
    {
      "cell_type": "markdown",
      "source": [
        "What does a typical data entry look like?"
      ],
      "metadata": {
        "id": "XpgCQx2TM0km"
      }
    },
    {
      "cell_type": "code",
      "source": [
        "df.head()"
      ],
      "metadata": {
        "colab": {
          "base_uri": "https://localhost:8080/",
          "height": 450
        },
        "id": "ueGCSWe0PD9i",
        "outputId": "f6b16449-2b0a-484a-dbbf-efc0aa06a1ae"
      },
      "execution_count": 4,
      "outputs": [
        {
          "output_type": "execute_result",
          "data": {
            "text/plain": [
              "      Name Type         Breed        Color       Sex   Size Date Of Birth  \\\n",
              "0     REMY  DOG        BEAGLE  BLACK/WHITE    Female    MED    04/11/2014   \n",
              "1   *RONDE  DOG  CHIHUAHUA SH          TAN  Neutered  SMALL    07/24/2020   \n",
              "2   *SNOOP  CAT   DOMESTIC SH         GRAY  Neutered  SMALL    08/04/2019   \n",
              "3     FIFI  CAT       SIAMESE      SEAL PT    Spayed  KITTN    10/27/2020   \n",
              "4  *MERLIN  CAT   DOMESTIC SH    BRN TABBY  Neutered  SMALL    01/16/2018   \n",
              "\n",
              "  Impound Number Kennel Number Animal ID  ...    Intake Subtype  \\\n",
              "0     K21-039564          DS69   A406645  ...             PHONE   \n",
              "1     K21-039133          DA30   A406003  ...             FIELD   \n",
              "2     K21-039232          CA02   A406151  ...             FIELD   \n",
              "3     K21-037796          CA03   A402286  ...  OVER THE COUNTER   \n",
              "4     K21-037709          CS05   A402139  ...             PHONE   \n",
              "\n",
              "      Outcome Type       Outcome Subtype Intake Condition Outcome Condition  \\\n",
              "0  RETURN TO OWNER  OVER THE COUNTER_WEB          UNKNOWN           PENDING   \n",
              "1         ADOPTION              SCAS WEB          HEALTHY           HEALTHY   \n",
              "2         ADOPTION              SCAS WEB          HEALTHY           HEALTHY   \n",
              "3         ADOPTION              SCAS WEB          UNKNOWN           PENDING   \n",
              "4         ADOPTION              SCAS WEB          UNKNOWN           PENDING   \n",
              "\n",
              "  Intake Jurisdiction Outcome Jurisdiction Outcome Zip Code  \\\n",
              "0          SANTA ROSA           SANTA ROSA          95407.0   \n",
              "1          SANTA ROSA            *PETALUMA          94954.0   \n",
              "2          SANTA ROSA           SANTA ROSA          95405.0   \n",
              "3          SANTA ROSA           SANTA ROSA          95407.0   \n",
              "4          SANTA ROSA               COUNTY          94952.0   \n",
              "\n",
              "                        Location Count  \n",
              "0  95407(38.403734, -122.736775)     1  \n",
              "1   94954(38.245316, -122.59871)     1  \n",
              "2  95405(38.439152, -122.672541)     1  \n",
              "3  95407(38.403734, -122.736775)     1  \n",
              "4  94952(38.236012, -122.730241)     1  \n",
              "\n",
              "[5 rows x 24 columns]"
            ],
            "text/html": [
              "\n",
              "  <div id=\"df-9ea10ac4-75d6-437c-849d-cc51f19590c6\">\n",
              "    <div class=\"colab-df-container\">\n",
              "      <div>\n",
              "<style scoped>\n",
              "    .dataframe tbody tr th:only-of-type {\n",
              "        vertical-align: middle;\n",
              "    }\n",
              "\n",
              "    .dataframe tbody tr th {\n",
              "        vertical-align: top;\n",
              "    }\n",
              "\n",
              "    .dataframe thead th {\n",
              "        text-align: right;\n",
              "    }\n",
              "</style>\n",
              "<table border=\"1\" class=\"dataframe\">\n",
              "  <thead>\n",
              "    <tr style=\"text-align: right;\">\n",
              "      <th></th>\n",
              "      <th>Name</th>\n",
              "      <th>Type</th>\n",
              "      <th>Breed</th>\n",
              "      <th>Color</th>\n",
              "      <th>Sex</th>\n",
              "      <th>Size</th>\n",
              "      <th>Date Of Birth</th>\n",
              "      <th>Impound Number</th>\n",
              "      <th>Kennel Number</th>\n",
              "      <th>Animal ID</th>\n",
              "      <th>...</th>\n",
              "      <th>Intake Subtype</th>\n",
              "      <th>Outcome Type</th>\n",
              "      <th>Outcome Subtype</th>\n",
              "      <th>Intake Condition</th>\n",
              "      <th>Outcome Condition</th>\n",
              "      <th>Intake Jurisdiction</th>\n",
              "      <th>Outcome Jurisdiction</th>\n",
              "      <th>Outcome Zip Code</th>\n",
              "      <th>Location</th>\n",
              "      <th>Count</th>\n",
              "    </tr>\n",
              "  </thead>\n",
              "  <tbody>\n",
              "    <tr>\n",
              "      <th>0</th>\n",
              "      <td>REMY</td>\n",
              "      <td>DOG</td>\n",
              "      <td>BEAGLE</td>\n",
              "      <td>BLACK/WHITE</td>\n",
              "      <td>Female</td>\n",
              "      <td>MED</td>\n",
              "      <td>04/11/2014</td>\n",
              "      <td>K21-039564</td>\n",
              "      <td>DS69</td>\n",
              "      <td>A406645</td>\n",
              "      <td>...</td>\n",
              "      <td>PHONE</td>\n",
              "      <td>RETURN TO OWNER</td>\n",
              "      <td>OVER THE COUNTER_WEB</td>\n",
              "      <td>UNKNOWN</td>\n",
              "      <td>PENDING</td>\n",
              "      <td>SANTA ROSA</td>\n",
              "      <td>SANTA ROSA</td>\n",
              "      <td>95407.0</td>\n",
              "      <td>95407(38.403734, -122.736775)</td>\n",
              "      <td>1</td>\n",
              "    </tr>\n",
              "    <tr>\n",
              "      <th>1</th>\n",
              "      <td>*RONDE</td>\n",
              "      <td>DOG</td>\n",
              "      <td>CHIHUAHUA SH</td>\n",
              "      <td>TAN</td>\n",
              "      <td>Neutered</td>\n",
              "      <td>SMALL</td>\n",
              "      <td>07/24/2020</td>\n",
              "      <td>K21-039133</td>\n",
              "      <td>DA30</td>\n",
              "      <td>A406003</td>\n",
              "      <td>...</td>\n",
              "      <td>FIELD</td>\n",
              "      <td>ADOPTION</td>\n",
              "      <td>SCAS WEB</td>\n",
              "      <td>HEALTHY</td>\n",
              "      <td>HEALTHY</td>\n",
              "      <td>SANTA ROSA</td>\n",
              "      <td>*PETALUMA</td>\n",
              "      <td>94954.0</td>\n",
              "      <td>94954(38.245316, -122.59871)</td>\n",
              "      <td>1</td>\n",
              "    </tr>\n",
              "    <tr>\n",
              "      <th>2</th>\n",
              "      <td>*SNOOP</td>\n",
              "      <td>CAT</td>\n",
              "      <td>DOMESTIC SH</td>\n",
              "      <td>GRAY</td>\n",
              "      <td>Neutered</td>\n",
              "      <td>SMALL</td>\n",
              "      <td>08/04/2019</td>\n",
              "      <td>K21-039232</td>\n",
              "      <td>CA02</td>\n",
              "      <td>A406151</td>\n",
              "      <td>...</td>\n",
              "      <td>FIELD</td>\n",
              "      <td>ADOPTION</td>\n",
              "      <td>SCAS WEB</td>\n",
              "      <td>HEALTHY</td>\n",
              "      <td>HEALTHY</td>\n",
              "      <td>SANTA ROSA</td>\n",
              "      <td>SANTA ROSA</td>\n",
              "      <td>95405.0</td>\n",
              "      <td>95405(38.439152, -122.672541)</td>\n",
              "      <td>1</td>\n",
              "    </tr>\n",
              "    <tr>\n",
              "      <th>3</th>\n",
              "      <td>FIFI</td>\n",
              "      <td>CAT</td>\n",
              "      <td>SIAMESE</td>\n",
              "      <td>SEAL PT</td>\n",
              "      <td>Spayed</td>\n",
              "      <td>KITTN</td>\n",
              "      <td>10/27/2020</td>\n",
              "      <td>K21-037796</td>\n",
              "      <td>CA03</td>\n",
              "      <td>A402286</td>\n",
              "      <td>...</td>\n",
              "      <td>OVER THE COUNTER</td>\n",
              "      <td>ADOPTION</td>\n",
              "      <td>SCAS WEB</td>\n",
              "      <td>UNKNOWN</td>\n",
              "      <td>PENDING</td>\n",
              "      <td>SANTA ROSA</td>\n",
              "      <td>SANTA ROSA</td>\n",
              "      <td>95407.0</td>\n",
              "      <td>95407(38.403734, -122.736775)</td>\n",
              "      <td>1</td>\n",
              "    </tr>\n",
              "    <tr>\n",
              "      <th>4</th>\n",
              "      <td>*MERLIN</td>\n",
              "      <td>CAT</td>\n",
              "      <td>DOMESTIC SH</td>\n",
              "      <td>BRN TABBY</td>\n",
              "      <td>Neutered</td>\n",
              "      <td>SMALL</td>\n",
              "      <td>01/16/2018</td>\n",
              "      <td>K21-037709</td>\n",
              "      <td>CS05</td>\n",
              "      <td>A402139</td>\n",
              "      <td>...</td>\n",
              "      <td>PHONE</td>\n",
              "      <td>ADOPTION</td>\n",
              "      <td>SCAS WEB</td>\n",
              "      <td>UNKNOWN</td>\n",
              "      <td>PENDING</td>\n",
              "      <td>SANTA ROSA</td>\n",
              "      <td>COUNTY</td>\n",
              "      <td>94952.0</td>\n",
              "      <td>94952(38.236012, -122.730241)</td>\n",
              "      <td>1</td>\n",
              "    </tr>\n",
              "  </tbody>\n",
              "</table>\n",
              "<p>5 rows × 24 columns</p>\n",
              "</div>\n",
              "      <button class=\"colab-df-convert\" onclick=\"convertToInteractive('df-9ea10ac4-75d6-437c-849d-cc51f19590c6')\"\n",
              "              title=\"Convert this dataframe to an interactive table.\"\n",
              "              style=\"display:none;\">\n",
              "        \n",
              "  <svg xmlns=\"http://www.w3.org/2000/svg\" height=\"24px\"viewBox=\"0 0 24 24\"\n",
              "       width=\"24px\">\n",
              "    <path d=\"M0 0h24v24H0V0z\" fill=\"none\"/>\n",
              "    <path d=\"M18.56 5.44l.94 2.06.94-2.06 2.06-.94-2.06-.94-.94-2.06-.94 2.06-2.06.94zm-11 1L8.5 8.5l.94-2.06 2.06-.94-2.06-.94L8.5 2.5l-.94 2.06-2.06.94zm10 10l.94 2.06.94-2.06 2.06-.94-2.06-.94-.94-2.06-.94 2.06-2.06.94z\"/><path d=\"M17.41 7.96l-1.37-1.37c-.4-.4-.92-.59-1.43-.59-.52 0-1.04.2-1.43.59L10.3 9.45l-7.72 7.72c-.78.78-.78 2.05 0 2.83L4 21.41c.39.39.9.59 1.41.59.51 0 1.02-.2 1.41-.59l7.78-7.78 2.81-2.81c.8-.78.8-2.07 0-2.86zM5.41 20L4 18.59l7.72-7.72 1.47 1.35L5.41 20z\"/>\n",
              "  </svg>\n",
              "      </button>\n",
              "      \n",
              "  <style>\n",
              "    .colab-df-container {\n",
              "      display:flex;\n",
              "      flex-wrap:wrap;\n",
              "      gap: 12px;\n",
              "    }\n",
              "\n",
              "    .colab-df-convert {\n",
              "      background-color: #E8F0FE;\n",
              "      border: none;\n",
              "      border-radius: 50%;\n",
              "      cursor: pointer;\n",
              "      display: none;\n",
              "      fill: #1967D2;\n",
              "      height: 32px;\n",
              "      padding: 0 0 0 0;\n",
              "      width: 32px;\n",
              "    }\n",
              "\n",
              "    .colab-df-convert:hover {\n",
              "      background-color: #E2EBFA;\n",
              "      box-shadow: 0px 1px 2px rgba(60, 64, 67, 0.3), 0px 1px 3px 1px rgba(60, 64, 67, 0.15);\n",
              "      fill: #174EA6;\n",
              "    }\n",
              "\n",
              "    [theme=dark] .colab-df-convert {\n",
              "      background-color: #3B4455;\n",
              "      fill: #D2E3FC;\n",
              "    }\n",
              "\n",
              "    [theme=dark] .colab-df-convert:hover {\n",
              "      background-color: #434B5C;\n",
              "      box-shadow: 0px 1px 3px 1px rgba(0, 0, 0, 0.15);\n",
              "      filter: drop-shadow(0px 1px 2px rgba(0, 0, 0, 0.3));\n",
              "      fill: #FFFFFF;\n",
              "    }\n",
              "  </style>\n",
              "\n",
              "      <script>\n",
              "        const buttonEl =\n",
              "          document.querySelector('#df-9ea10ac4-75d6-437c-849d-cc51f19590c6 button.colab-df-convert');\n",
              "        buttonEl.style.display =\n",
              "          google.colab.kernel.accessAllowed ? 'block' : 'none';\n",
              "\n",
              "        async function convertToInteractive(key) {\n",
              "          const element = document.querySelector('#df-9ea10ac4-75d6-437c-849d-cc51f19590c6');\n",
              "          const dataTable =\n",
              "            await google.colab.kernel.invokeFunction('convertToInteractive',\n",
              "                                                     [key], {});\n",
              "          if (!dataTable) return;\n",
              "\n",
              "          const docLinkHtml = 'Like what you see? Visit the ' +\n",
              "            '<a target=\"_blank\" href=https://colab.research.google.com/notebooks/data_table.ipynb>data table notebook</a>'\n",
              "            + ' to learn more about interactive tables.';\n",
              "          element.innerHTML = '';\n",
              "          dataTable['output_type'] = 'display_data';\n",
              "          await google.colab.output.renderOutput(dataTable, element);\n",
              "          const docLink = document.createElement('div');\n",
              "          docLink.innerHTML = docLinkHtml;\n",
              "          element.appendChild(docLink);\n",
              "        }\n",
              "      </script>\n",
              "    </div>\n",
              "  </div>\n",
              "  "
            ]
          },
          "metadata": {},
          "execution_count": 4
        }
      ]
    },
    {
      "cell_type": "markdown",
      "source": [
        "A typical data entry begins with the name of the animal. After that follows the animal's bio which contains type, breed, color, sex, size, and date of birth.\n",
        "\n",
        "Next comes the identification and kennel location of the animal which consists of the impound number and animal ID.\n",
        "\n",
        "The shelter then takes note on the duration of the stay of the animal as well as its condition (healthy/unhealthy) when it came in and reasoning for coming, and its condition when it was taken out of the shelter and reasoning for its exit.\n",
        "\n",
        "Lastly, the shelter notes the jurisdication held accountable for the animal's intake as well as information about where the animal was sent to after its stay at the shelter.\n",
        "\n",
        "There is one final column called 'Count' that is said to be used for arithmetic and group creation. There is no correlation seen for why entries will be marked with either a 1 or a 0 for this column."
      ],
      "metadata": {
        "id": "S2jZVELzPH71"
      }
    },
    {
      "cell_type": "markdown",
      "source": [
        "For the numerical columns, what are the averages, minimums, and maximums. Are there any outliers?"
      ],
      "metadata": {
        "id": "BKBmxtepUuOe"
      }
    },
    {
      "cell_type": "code",
      "source": [
        "df['Days in Shelter'].describe()"
      ],
      "metadata": {
        "colab": {
          "base_uri": "https://localhost:8080/"
        },
        "id": "TTUnZUG1RWNb",
        "outputId": "06608d1f-d372-4ced-b33f-cf4573fe364a"
      },
      "execution_count": 5,
      "outputs": [
        {
          "output_type": "execute_result",
          "data": {
            "text/plain": [
              "count    22108.000000\n",
              "mean        17.515108\n",
              "std         34.420140\n",
              "min          0.000000\n",
              "25%          1.000000\n",
              "50%          8.000000\n",
              "75%         22.000000\n",
              "max       1239.000000\n",
              "Name: Days in Shelter, dtype: float64"
            ]
          },
          "metadata": {},
          "execution_count": 5
        }
      ]
    },
    {
      "cell_type": "markdown",
      "source": [
        "Though there are 3 numerical columns, we ignore the summary information on 'Outcome Zip Code' as zip code is for classifying purposes only rather than arithmetic purposes. We also ignore the summary information on 'Count' as there is no observed relationships in its values. \n",
        "\n",
        "On average, animals spend 17 days in the shelter. The minimum days spent in a shelter is 0 days. We assume this is because the animals were only in the shelter for less than 24 hours. The maximum days spent for an animal was 1239 days or around 3 years."
      ],
      "metadata": {
        "id": "C1a58PV2VRSy"
      }
    },
    {
      "cell_type": "markdown",
      "source": [
        "3 years is definitely an outlier, so we examine what this special case was."
      ],
      "metadata": {
        "id": "jekCPU6FXAZZ"
      }
    },
    {
      "cell_type": "code",
      "source": [
        "df[['Type', 'Kennel Number', 'Outcome Type', 'Outcome Subtype', 'Intake Condition', 'Outcome Condition']][df['Days in Shelter'] == 1239]"
      ],
      "metadata": {
        "colab": {
          "base_uri": "https://localhost:8080/",
          "height": 80
        },
        "id": "A96CUlw7XHn9",
        "outputId": "1f9976c1-5c28-4e3f-918c-79e95a1efa57"
      },
      "execution_count": 6,
      "outputs": [
        {
          "output_type": "execute_result",
          "data": {
            "text/plain": [
              "    Type Kennel Number Outcome Type Outcome Subtype Intake Condition  \\\n",
              "829  DOG       FREEZER     DISPOSAL             DOA          UNKNOWN   \n",
              "\n",
              "    Outcome Condition  \n",
              "829              DEAD  "
            ],
            "text/html": [
              "\n",
              "  <div id=\"df-f80c7b92-a96a-4770-827b-d1c005592859\">\n",
              "    <div class=\"colab-df-container\">\n",
              "      <div>\n",
              "<style scoped>\n",
              "    .dataframe tbody tr th:only-of-type {\n",
              "        vertical-align: middle;\n",
              "    }\n",
              "\n",
              "    .dataframe tbody tr th {\n",
              "        vertical-align: top;\n",
              "    }\n",
              "\n",
              "    .dataframe thead th {\n",
              "        text-align: right;\n",
              "    }\n",
              "</style>\n",
              "<table border=\"1\" class=\"dataframe\">\n",
              "  <thead>\n",
              "    <tr style=\"text-align: right;\">\n",
              "      <th></th>\n",
              "      <th>Type</th>\n",
              "      <th>Kennel Number</th>\n",
              "      <th>Outcome Type</th>\n",
              "      <th>Outcome Subtype</th>\n",
              "      <th>Intake Condition</th>\n",
              "      <th>Outcome Condition</th>\n",
              "    </tr>\n",
              "  </thead>\n",
              "  <tbody>\n",
              "    <tr>\n",
              "      <th>829</th>\n",
              "      <td>DOG</td>\n",
              "      <td>FREEZER</td>\n",
              "      <td>DISPOSAL</td>\n",
              "      <td>DOA</td>\n",
              "      <td>UNKNOWN</td>\n",
              "      <td>DEAD</td>\n",
              "    </tr>\n",
              "  </tbody>\n",
              "</table>\n",
              "</div>\n",
              "      <button class=\"colab-df-convert\" onclick=\"convertToInteractive('df-f80c7b92-a96a-4770-827b-d1c005592859')\"\n",
              "              title=\"Convert this dataframe to an interactive table.\"\n",
              "              style=\"display:none;\">\n",
              "        \n",
              "  <svg xmlns=\"http://www.w3.org/2000/svg\" height=\"24px\"viewBox=\"0 0 24 24\"\n",
              "       width=\"24px\">\n",
              "    <path d=\"M0 0h24v24H0V0z\" fill=\"none\"/>\n",
              "    <path d=\"M18.56 5.44l.94 2.06.94-2.06 2.06-.94-2.06-.94-.94-2.06-.94 2.06-2.06.94zm-11 1L8.5 8.5l.94-2.06 2.06-.94-2.06-.94L8.5 2.5l-.94 2.06-2.06.94zm10 10l.94 2.06.94-2.06 2.06-.94-2.06-.94-.94-2.06-.94 2.06-2.06.94z\"/><path d=\"M17.41 7.96l-1.37-1.37c-.4-.4-.92-.59-1.43-.59-.52 0-1.04.2-1.43.59L10.3 9.45l-7.72 7.72c-.78.78-.78 2.05 0 2.83L4 21.41c.39.39.9.59 1.41.59.51 0 1.02-.2 1.41-.59l7.78-7.78 2.81-2.81c.8-.78.8-2.07 0-2.86zM5.41 20L4 18.59l7.72-7.72 1.47 1.35L5.41 20z\"/>\n",
              "  </svg>\n",
              "      </button>\n",
              "      \n",
              "  <style>\n",
              "    .colab-df-container {\n",
              "      display:flex;\n",
              "      flex-wrap:wrap;\n",
              "      gap: 12px;\n",
              "    }\n",
              "\n",
              "    .colab-df-convert {\n",
              "      background-color: #E8F0FE;\n",
              "      border: none;\n",
              "      border-radius: 50%;\n",
              "      cursor: pointer;\n",
              "      display: none;\n",
              "      fill: #1967D2;\n",
              "      height: 32px;\n",
              "      padding: 0 0 0 0;\n",
              "      width: 32px;\n",
              "    }\n",
              "\n",
              "    .colab-df-convert:hover {\n",
              "      background-color: #E2EBFA;\n",
              "      box-shadow: 0px 1px 2px rgba(60, 64, 67, 0.3), 0px 1px 3px 1px rgba(60, 64, 67, 0.15);\n",
              "      fill: #174EA6;\n",
              "    }\n",
              "\n",
              "    [theme=dark] .colab-df-convert {\n",
              "      background-color: #3B4455;\n",
              "      fill: #D2E3FC;\n",
              "    }\n",
              "\n",
              "    [theme=dark] .colab-df-convert:hover {\n",
              "      background-color: #434B5C;\n",
              "      box-shadow: 0px 1px 3px 1px rgba(0, 0, 0, 0.15);\n",
              "      filter: drop-shadow(0px 1px 2px rgba(0, 0, 0, 0.3));\n",
              "      fill: #FFFFFF;\n",
              "    }\n",
              "  </style>\n",
              "\n",
              "      <script>\n",
              "        const buttonEl =\n",
              "          document.querySelector('#df-f80c7b92-a96a-4770-827b-d1c005592859 button.colab-df-convert');\n",
              "        buttonEl.style.display =\n",
              "          google.colab.kernel.accessAllowed ? 'block' : 'none';\n",
              "\n",
              "        async function convertToInteractive(key) {\n",
              "          const element = document.querySelector('#df-f80c7b92-a96a-4770-827b-d1c005592859');\n",
              "          const dataTable =\n",
              "            await google.colab.kernel.invokeFunction('convertToInteractive',\n",
              "                                                     [key], {});\n",
              "          if (!dataTable) return;\n",
              "\n",
              "          const docLinkHtml = 'Like what you see? Visit the ' +\n",
              "            '<a target=\"_blank\" href=https://colab.research.google.com/notebooks/data_table.ipynb>data table notebook</a>'\n",
              "            + ' to learn more about interactive tables.';\n",
              "          element.innerHTML = '';\n",
              "          dataTable['output_type'] = 'display_data';\n",
              "          await google.colab.output.renderOutput(dataTable, element);\n",
              "          const docLink = document.createElement('div');\n",
              "          docLink.innerHTML = docLinkHtml;\n",
              "          element.appendChild(docLink);\n",
              "        }\n",
              "      </script>\n",
              "    </div>\n",
              "  </div>\n",
              "  "
            ]
          },
          "metadata": {},
          "execution_count": 6
        }
      ]
    },
    {
      "cell_type": "markdown",
      "source": [
        "The outlier was a dog who was 'DOA' or 'Dead On Arrival' and we can assume that its long stay was due to it being stored in a freezer before final disposal."
      ],
      "metadata": {
        "id": "32mbksocXt_b"
      }
    },
    {
      "cell_type": "markdown",
      "source": [
        "What are the number of different values for each column?"
      ],
      "metadata": {
        "id": "wqUWgG-6RcUo"
      }
    },
    {
      "cell_type": "code",
      "source": [
        "df.nunique().sort_values(ascending=False)"
      ],
      "metadata": {
        "colab": {
          "base_uri": "https://localhost:8080/"
        },
        "id": "gVEWSdQbRgYW",
        "outputId": "fcc33e85-c022-44de-f1f3-13e4f1082bec"
      },
      "execution_count": 7,
      "outputs": [
        {
          "output_type": "execute_result",
          "data": {
            "text/plain": [
              "Impound Number          22108\n",
              "Animal ID               19994\n",
              "Name                     6080\n",
              "Date Of Birth            5223\n",
              "Intake Date              2771\n",
              "Outcome Date             2449\n",
              "Breed                     977\n",
              "Location                  635\n",
              "Outcome Zip Code          635\n",
              "Color                     327\n",
              "Days in Shelter           262\n",
              "Outcome Subtype           227\n",
              "Kennel Number             162\n",
              "Intake Subtype             29\n",
              "Intake Jurisdiction        13\n",
              "Outcome Jurisdiction       12\n",
              "Outcome Type                9\n",
              "Intake Type                 7\n",
              "Size                        7\n",
              "Outcome Condition           6\n",
              "Intake Condition            5\n",
              "Sex                         5\n",
              "Type                        3\n",
              "Count                       2\n",
              "dtype: int64"
            ]
          },
          "metadata": {},
          "execution_count": 7
        }
      ]
    },
    {
      "cell_type": "markdown",
      "source": [
        "As expected the columns involving unique identification or dates have the most different values. \n",
        "\n",
        "Breed and color are high as well as there are multidudes of those. Other biological data such as size and sex are in the expected range as there are not too many variations of either of those."
      ],
      "metadata": {
        "id": "GC04b--RR0kV"
      }
    },
    {
      "cell_type": "markdown",
      "source": [
        "What are the typical values for the biological data of an animal (not breed or color) and their intake/outcome condition and type?"
      ],
      "metadata": {
        "id": "HPFdy4_kRGIs"
      }
    },
    {
      "cell_type": "code",
      "source": [
        "df['Sex'].value_counts().plot.barh()\n",
        "plt.title('Count of Unique Values')\n",
        "plt.ylabel('Count')\n",
        "plt.xlabel('Sex');"
      ],
      "metadata": {
        "colab": {
          "base_uri": "https://localhost:8080/",
          "height": 295
        },
        "id": "GicNUnoqRP2U",
        "outputId": "661823cf-510c-46d8-f609-1b81cdd149a7"
      },
      "execution_count": 8,
      "outputs": [
        {
          "output_type": "display_data",
          "data": {
            "text/plain": [
              "<Figure size 432x288 with 1 Axes>"
            ],
            "image/png": "[encoded data removed]"
          },
          "metadata": {
            "needs_background": "light"
          }
        }
      ]
    },
    {
      "cell_type": "markdown",
      "source": [
        "These values are a bit surprising as we didn't think there would be only 'UNKNOWN', 'MALE' and 'FEMALE', but they seemed to have added their neutered/spayed status as well."
      ],
      "metadata": {
        "id": "7lP1L8lfo1hl"
      }
    },
    {
      "cell_type": "code",
      "source": [
        "df['Size'].value_counts().plot.barh()\n",
        "plt.title('Count of Unique Values')\n",
        "plt.ylabel('Count')\n",
        "plt.xlabel('Size');"
      ],
      "metadata": {
        "colab": {
          "base_uri": "https://localhost:8080/",
          "height": 295
        },
        "id": "3MXayB9oS2bB",
        "outputId": "bc7b612d-670e-4461-fd71-f92204afc6d2"
      },
      "execution_count": 9,
      "outputs": [
        {
          "output_type": "display_data",
          "data": {
            "text/plain": [
              "<Figure size 432x288 with 1 Axes>"
            ],
            "image/png": "[encoded data removed]"
          },
          "metadata": {
            "needs_background": "light"
          }
        }
      ]
    },
    {
      "cell_type": "markdown",
      "source": [
        "Some of these values are surprising as well as 'TOY', 'PUPPY' and 'KITTN' are not usual size indicators such as 'MED' and 'LARGE'."
      ],
      "metadata": {
        "id": "6Z0m49uppEAI"
      }
    },
    {
      "cell_type": "code",
      "source": [
        "df['Intake Type'].value_counts().plot.barh()\n",
        "plt.title('Count of Unique Values')\n",
        "plt.ylabel('Count')\n",
        "plt.xlabel('Intake Type');"
      ],
      "metadata": {
        "colab": {
          "base_uri": "https://localhost:8080/",
          "height": 295
        },
        "id": "JbwkES1US7bu",
        "outputId": "203d3bfa-6e9e-4f0f-90cc-cca2727cefc8"
      },
      "execution_count": 10,
      "outputs": [
        {
          "output_type": "display_data",
          "data": {
            "text/plain": [
              "<Figure size 432x288 with 1 Axes>"
            ],
            "image/png": "[encoded data removed]"
          },
          "metadata": {
            "needs_background": "light"
          }
        }
      ]
    },
    {
      "cell_type": "markdown",
      "source": [
        "The only value that stands out is 'OS APPT' as we can infer that it is some type of appointment, but we are given no clues to what 'OS' could mean."
      ],
      "metadata": {
        "id": "1Q46_8yApY2e"
      }
    },
    {
      "cell_type": "code",
      "source": [
        "df['Outcome Type'].value_counts().plot.barh()\n",
        "plt.title('Count of Unique Values')\n",
        "plt.ylabel('Count')\n",
        "plt.xlabel('Outcome Type');"
      ],
      "metadata": {
        "colab": {
          "base_uri": "https://localhost:8080/",
          "height": 295
        },
        "id": "vBYDvRH3S73i",
        "outputId": "b7ab9dce-6458-4939-b6b7-b3d172352c95"
      },
      "execution_count": 11,
      "outputs": [
        {
          "output_type": "display_data",
          "data": {
            "text/plain": [
              "<Figure size 432x288 with 1 Axes>"
            ],
            "image/png": "[encoded data removed]"
          },
          "metadata": {
            "needs_background": "light"
          }
        }
      ]
    },
    {
      "cell_type": "markdown",
      "source": [
        "The only value that stands out is 'RTOS' as we are given no clues to what it could mean."
      ],
      "metadata": {
        "id": "K4lyzB-dppHo"
      }
    },
    {
      "cell_type": "code",
      "source": [
        "df['Intake Condition'].value_counts().plot.barh()\n",
        "plt.title('Count of Unique Values')\n",
        "plt.ylabel('Count')\n",
        "plt.xlabel('Intake Condition');"
      ],
      "metadata": {
        "colab": {
          "base_uri": "https://localhost:8080/",
          "height": 295
        },
        "id": "ycFGay06TDUZ",
        "outputId": "d9513567-284c-4df6-a4b9-43633cf3bb4f"
      },
      "execution_count": 12,
      "outputs": [
        {
          "output_type": "display_data",
          "data": {
            "text/plain": [
              "<Figure size 432x288 with 1 Axes>"
            ],
            "image/png": "[encoded data removed]"
          },
          "metadata": {
            "needs_background": "light"
          }
        }
      ]
    },
    {
      "cell_type": "markdown",
      "source": [
        "It is interesting that they've categorized what kind of 'TREATABLE' a dog is such as 'TREATABLE/MANAGEABLE' and 'TREATABLE/REHAB'."
      ],
      "metadata": {
        "id": "Esy3OFgrpx_E"
      }
    },
    {
      "cell_type": "code",
      "source": [
        "df['Outcome Condition'].value_counts().plot.barh()\n",
        "plt.title('Count of Unique Values')\n",
        "plt.ylabel('Count')\n",
        "plt.xlabel('Outcome Condition');"
      ],
      "metadata": {
        "colab": {
          "base_uri": "https://localhost:8080/",
          "height": 295
        },
        "id": "_snOdFECTEPA",
        "outputId": "f26a3e60-31dd-421c-8488-a5b131566e14"
      },
      "execution_count": 13,
      "outputs": [
        {
          "output_type": "display_data",
          "data": {
            "text/plain": [
              "<Figure size 432x288 with 1 Axes>"
            ],
            "image/png": "[encoded data removed]"
          },
          "metadata": {
            "needs_background": "light"
          }
        }
      ]
    },
    {
      "cell_type": "markdown",
      "source": [
        "These values are expected and 'DEATH' is expected as well as dogs could die in the shelter."
      ],
      "metadata": {
        "id": "D7KLkY-Dp-wt"
      }
    },
    {
      "cell_type": "markdown",
      "source": [
        "# Data Cleaning and Preprocessing"
      ],
      "metadata": {
        "id": "BciBCOliaNry"
      }
    },
    {
      "cell_type": "markdown",
      "source": [
        "Our main purpose focuses on dogs. Because of that, we drop all rows that are non-dogs. "
      ],
      "metadata": {
        "id": "drrfbnthbiiC"
      }
    },
    {
      "cell_type": "code",
      "source": [
        "df.drop(df[df['Type'] != 'DOG'].index, inplace = True)"
      ],
      "metadata": {
        "id": "6T0jyusFbq_9"
      },
      "execution_count": 14,
      "outputs": []
    },
    {
      "cell_type": "markdown",
      "source": [
        "For our questions, we look at the columns with dates the dogs were taken in and out of the shelter, their duration of stay, their condition on intake and when taken out, their reasoning for the intake and outcome, as well as their bio data (date of birth, sex, and size).\n",
        "\n"
      ],
      "metadata": {
        "id": "gprWmRgbay7X"
      }
    },
    {
      "cell_type": "markdown",
      "source": [
        "Because of our initial exploration, we don't include bio data that involves breed and color as we saw there were hundreds of different specific values which make it difficult to graph in a way that's easy to understand. "
      ],
      "metadata": {
        "id": "ad2VhiFS01U1"
      }
    },
    {
      "cell_type": "markdown",
      "source": [
        "Breed, color, and all other columns not mentioned in our desired use are not needed and thus will be dropped."
      ],
      "metadata": {
        "id": "Mfr-G2O91MnF"
      }
    },
    {
      "cell_type": "code",
      "source": [
        "df.drop(labels=['Name', 'Breed', 'Color', 'Impound Number', 'Kennel Number', 'Animal ID', 'Intake Subtype', 'Outcome Subtype', 'Intake Jurisdiction', 'Outcome Jurisdiction', 'Outcome Zip Code', 'Location', 'Count'], axis=1, inplace=True)\n"
      ],
      "metadata": {
        "id": "OYhn-fi_g5HQ"
      },
      "execution_count": 15,
      "outputs": []
    },
    {
      "cell_type": "markdown",
      "source": [
        "After the initial dropping, we check if there's additional dropping or imputing that needs to happen with the columns we will definitely use in our analysis."
      ],
      "metadata": {
        "id": "_Jl1KuF0iskS"
      }
    },
    {
      "cell_type": "code",
      "source": [
        "df.info()"
      ],
      "metadata": {
        "colab": {
          "base_uri": "https://localhost:8080/"
        },
        "id": "5M7e2edsg7Ec",
        "outputId": "a7177ef7-e908-4233-82be-6fc17b782625"
      },
      "execution_count": 16,
      "outputs": [
        {
          "output_type": "stream",
          "name": "stdout",
          "text": [
            "<class 'pandas.core.frame.DataFrame'>\n",
            "Int64Index: 12454 entries, 0 to 22106\n",
            "Data columns (total 11 columns):\n",
            " #   Column             Non-Null Count  Dtype \n",
            "---  ------             --------------  ----- \n",
            " 0   Type               12454 non-null  object\n",
            " 1   Sex                12454 non-null  object\n",
            " 2   Size               12423 non-null  object\n",
            " 3   Date Of Birth      10377 non-null  object\n",
            " 4   Intake Date        12454 non-null  object\n",
            " 5   Outcome Date       12379 non-null  object\n",
            " 6   Days in Shelter    12454 non-null  int64 \n",
            " 7   Intake Type        12454 non-null  object\n",
            " 8   Outcome Type       12379 non-null  object\n",
            " 9   Intake Condition   12454 non-null  object\n",
            " 10  Outcome Condition  12278 non-null  object\n",
            "dtypes: int64(1), object(10)\n",
            "memory usage: 1.1+ MB\n"
          ]
        }
      ]
    },
    {
      "cell_type": "markdown",
      "source": [
        "There are null values in the 'Size', 'Date of Birth', 'Outcome Date', 'Outcome Type', and 'Outcome Condition' columns.\n",
        "\n",
        "Because size, date, outcome condition of birth can vary greatly from dog to dog, we will drop these null rows rather than impute them.\n",
        "\n",
        "As there can be many different specific values for a dog's outcome type, we drop these null rows rather than impute them as well."
      ],
      "metadata": {
        "id": "rHyPenUii-I2"
      }
    },
    {
      "cell_type": "code",
      "source": [
        "df.dropna(inplace=True)"
      ],
      "metadata": {
        "id": "d_AYySK1j8B3"
      },
      "execution_count": 17,
      "outputs": []
    },
    {
      "cell_type": "markdown",
      "source": [
        "Though we drop all the null values, there could still be values that are supposed to be null but are labelled as 'NA', etc."
      ],
      "metadata": {
        "id": "6x0knmiLsEqh"
      }
    },
    {
      "cell_type": "markdown",
      "source": [
        "From our initial exploration, the only possible missing and/or bad data are the 'UNKNOWN' values in the 'Sex' and 'Intake Condition' column.\n",
        "\n",
        "However, given the context that some animals are kept for less than a day, it could be possible the shelter staff was not given enough time to evaluate the dog's sex or condition.\n",
        "\n",
        "Thus, these 'UNKNOWN' values are valid and will be left alone."
      ],
      "metadata": {
        "id": "AUnf3-nVu3h6"
      }
    },
    {
      "cell_type": "markdown",
      "source": [
        "Because we are interested in time, we will be converting the date columns to Timestamp type."
      ],
      "metadata": {
        "id": "4qlk-jCm8AO9"
      }
    },
    {
      "cell_type": "code",
      "source": [
        "df['Date Of Birth'] = pd.to_datetime(df['Date Of Birth'])\n",
        "df['Intake Date'] = pd.to_datetime(df['Intake Date'])\n",
        "df['Outcome Date'] = pd.to_datetime(df['Outcome Date'])"
      ],
      "metadata": {
        "id": "MLjOQogs8Ny8"
      },
      "execution_count": 18,
      "outputs": []
    },
    {
      "cell_type": "markdown",
      "source": [
        "Because we are interested in health in terms of 'HEALTHY' and 'UNHEALTHY', we generalize the values in the condition columns to fit these two generally.\n",
        "\n",
        "The 'HEALTHY' value will be left alone.\n",
        "'TREATABLE/MANAGEABLE', 'TREATABLE/REHAB', 'UNTREATABLE' are now labeled as 'UNHEALTHY'.\n",
        "\n",
        "There are some exceptions to this rule such as 'PENDING', 'UNKNOWN' and 'DEAD' and so these will be left alone as they are special cases that can't be easily categorized to the 'HEALTHY' and 'UNHEALTHY' bins."
      ],
      "metadata": {
        "id": "ns7ijgTJ_W6Q"
      }
    },
    {
      "cell_type": "code",
      "source": [
        "replace_conditions = {'TREATABLE/MANAGEABLE': 'UNHEALTHY', 'TREATABLE/REHAB': 'UNHEALTHY', 'UNTREATABLE': 'UNHEALTHY'}\n",
        "df['Intake Condition'].replace(replace_conditions, inplace=True)\n",
        "df['Outcome Condition'].replace(replace_conditions, inplace=True)"
      ],
      "metadata": {
        "id": "hLKE1VIKAI-w"
      },
      "execution_count": 19,
      "outputs": []
    },
    {
      "cell_type": "markdown",
      "source": [
        "Since some of our questions deal with the age of the dog, the date of birth is difficult to interpret fast. To go about this, we create a new column called 'Age' which will give the number of years each dog has lived until 4/15/2022."
      ],
      "metadata": {
        "id": "zu0CPT4jnldh"
      }
    },
    {
      "cell_type": "code",
      "source": [
        "df['Age'] = (pd.to_datetime('04/15/2022') - df['Date Of Birth']).dt.days // 365\n",
        "df[['Date Of Birth', 'Age']].head()"
      ],
      "metadata": {
        "colab": {
          "base_uri": "https://localhost:8080/",
          "height": 204
        },
        "id": "Gz8Qvqk6n3lK",
        "outputId": "76cd48c4-49b9-413f-92d7-87c8f0e24208"
      },
      "execution_count": 20,
      "outputs": [
        {
          "output_type": "execute_result",
          "data": {
            "text/plain": [
              "   Date Of Birth  Age\n",
              "0     2014-04-11    8\n",
              "1     2020-07-24    1\n",
              "7     2020-01-04    2\n",
              "8     2020-04-14    2\n",
              "13    2008-02-06   14"
            ],
            "text/html": [
              "\n",
              "  <div id=\"df-fabef9a1-9ba8-4492-b6fe-341507b17a32\">\n",
              "    <div class=\"colab-df-container\">\n",
              "      <div>\n",
              "<style scoped>\n",
              "    .dataframe tbody tr th:only-of-type {\n",
              "        vertical-align: middle;\n",
              "    }\n",
              "\n",
              "    .dataframe tbody tr th {\n",
              "        vertical-align: top;\n",
              "    }\n",
              "\n",
              "    .dataframe thead th {\n",
              "        text-align: right;\n",
              "    }\n",
              "</style>\n",
              "<table border=\"1\" class=\"dataframe\">\n",
              "  <thead>\n",
              "    <tr style=\"text-align: right;\">\n",
              "      <th></th>\n",
              "      <th>Date Of Birth</th>\n",
              "      <th>Age</th>\n",
              "    </tr>\n",
              "  </thead>\n",
              "  <tbody>\n",
              "    <tr>\n",
              "      <th>0</th>\n",
              "      <td>2014-04-11</td>\n",
              "      <td>8</td>\n",
              "    </tr>\n",
              "    <tr>\n",
              "      <th>1</th>\n",
              "      <td>2020-07-24</td>\n",
              "      <td>1</td>\n",
              "    </tr>\n",
              "    <tr>\n",
              "      <th>7</th>\n",
              "      <td>2020-01-04</td>\n",
              "      <td>2</td>\n",
              "    </tr>\n",
              "    <tr>\n",
              "      <th>8</th>\n",
              "      <td>2020-04-14</td>\n",
              "      <td>2</td>\n",
              "    </tr>\n",
              "    <tr>\n",
              "      <th>13</th>\n",
              "      <td>2008-02-06</td>\n",
              "      <td>14</td>\n",
              "    </tr>\n",
              "  </tbody>\n",
              "</table>\n",
              "</div>\n",
              "      <button class=\"colab-df-convert\" onclick=\"convertToInteractive('df-fabef9a1-9ba8-4492-b6fe-341507b17a32')\"\n",
              "              title=\"Convert this dataframe to an interactive table.\"\n",
              "              style=\"display:none;\">\n",
              "        \n",
              "  <svg xmlns=\"http://www.w3.org/2000/svg\" height=\"24px\"viewBox=\"0 0 24 24\"\n",
              "       width=\"24px\">\n",
              "    <path d=\"M0 0h24v24H0V0z\" fill=\"none\"/>\n",
              "    <path d=\"M18.56 5.44l.94 2.06.94-2.06 2.06-.94-2.06-.94-.94-2.06-.94 2.06-2.06.94zm-11 1L8.5 8.5l.94-2.06 2.06-.94-2.06-.94L8.5 2.5l-.94 2.06-2.06.94zm10 10l.94 2.06.94-2.06 2.06-.94-2.06-.94-.94-2.06-.94 2.06-2.06.94z\"/><path d=\"M17.41 7.96l-1.37-1.37c-.4-.4-.92-.59-1.43-.59-.52 0-1.04.2-1.43.59L10.3 9.45l-7.72 7.72c-.78.78-.78 2.05 0 2.83L4 21.41c.39.39.9.59 1.41.59.51 0 1.02-.2 1.41-.59l7.78-7.78 2.81-2.81c.8-.78.8-2.07 0-2.86zM5.41 20L4 18.59l7.72-7.72 1.47 1.35L5.41 20z\"/>\n",
              "  </svg>\n",
              "      </button>\n",
              "      \n",
              "  <style>\n",
              "    .colab-df-container {\n",
              "      display:flex;\n",
              "      flex-wrap:wrap;\n",
              "      gap: 12px;\n",
              "    }\n",
              "\n",
              "    .colab-df-convert {\n",
              "      background-color: #E8F0FE;\n",
              "      border: none;\n",
              "      border-radius: 50%;\n",
              "      cursor: pointer;\n",
              "      display: none;\n",
              "      fill: #1967D2;\n",
              "      height: 32px;\n",
              "      padding: 0 0 0 0;\n",
              "      width: 32px;\n",
              "    }\n",
              "\n",
              "    .colab-df-convert:hover {\n",
              "      background-color: #E2EBFA;\n",
              "      box-shadow: 0px 1px 2px rgba(60, 64, 67, 0.3), 0px 1px 3px 1px rgba(60, 64, 67, 0.15);\n",
              "      fill: #174EA6;\n",
              "    }\n",
              "\n",
              "    [theme=dark] .colab-df-convert {\n",
              "      background-color: #3B4455;\n",
              "      fill: #D2E3FC;\n",
              "    }\n",
              "\n",
              "    [theme=dark] .colab-df-convert:hover {\n",
              "      background-color: #434B5C;\n",
              "      box-shadow: 0px 1px 3px 1px rgba(0, 0, 0, 0.15);\n",
              "      filter: drop-shadow(0px 1px 2px rgba(0, 0, 0, 0.3));\n",
              "      fill: #FFFFFF;\n",
              "    }\n",
              "  </style>\n",
              "\n",
              "      <script>\n",
              "        const buttonEl =\n",
              "          document.querySelector('#df-fabef9a1-9ba8-4492-b6fe-341507b17a32 button.colab-df-convert');\n",
              "        buttonEl.style.display =\n",
              "          google.colab.kernel.accessAllowed ? 'block' : 'none';\n",
              "\n",
              "        async function convertToInteractive(key) {\n",
              "          const element = document.querySelector('#df-fabef9a1-9ba8-4492-b6fe-341507b17a32');\n",
              "          const dataTable =\n",
              "            await google.colab.kernel.invokeFunction('convertToInteractive',\n",
              "                                                     [key], {});\n",
              "          if (!dataTable) return;\n",
              "\n",
              "          const docLinkHtml = 'Like what you see? Visit the ' +\n",
              "            '<a target=\"_blank\" href=https://colab.research.google.com/notebooks/data_table.ipynb>data table notebook</a>'\n",
              "            + ' to learn more about interactive tables.';\n",
              "          element.innerHTML = '';\n",
              "          dataTable['output_type'] = 'display_data';\n",
              "          await google.colab.output.renderOutput(dataTable, element);\n",
              "          const docLink = document.createElement('div');\n",
              "          docLink.innerHTML = docLinkHtml;\n",
              "          element.appendChild(docLink);\n",
              "        }\n",
              "      </script>\n",
              "    </div>\n",
              "  </div>\n",
              "  "
            ]
          },
          "metadata": {},
          "execution_count": 20
        }
      ]
    },
    {
      "cell_type": "markdown",
      "source": [
        "Last in our preprocessing, some of our questions deal with months. The intake and outcome dates are difficult to interpret the month fast. Again, to go about this, we create new columns called 'Intake Month' and 'Outcome Month'.\n",
        "\n",
        "Since we also want to look at data around the time of COVID, we create other columns called 'Intake Month/Year' and 'Outcome Month/Year'."
      ],
      "metadata": {
        "id": "T77BxKApo1Ju"
      }
    },
    {
      "cell_type": "code",
      "source": [
        "df['Intake Month'] = df['Intake Date'].dt.month_name().str.slice(stop=3)\n",
        "df['Outcome Month'] = df['Outcome Date'].dt.month_name().str.slice(stop=3)\n",
        "df['Intake Month/Year'] = df['Intake Date'].dt.to_period('M')\n",
        "df['Outcome Month/Year'] = df['Outcome Date'].dt.to_period('M')\n",
        "df[['Intake Date', 'Outcome Date', 'Intake Month', 'Outcome Month', 'Intake Month/Year', 'Outcome Month/Year']].head()"
      ],
      "metadata": {
        "colab": {
          "base_uri": "https://localhost:8080/",
          "height": 204
        },
        "id": "TDDV-h4kpH2N",
        "outputId": "df6bedf9-325c-486d-b431-c422678b6d69"
      },
      "execution_count": 21,
      "outputs": [
        {
          "output_type": "execute_result",
          "data": {
            "text/plain": [
              "   Intake Date Outcome Date Intake Month Outcome Month Intake Month/Year  \\\n",
              "0   2021-09-08   2021-09-11          Sep           Sep           2021-09   \n",
              "1   2021-07-24   2021-09-11          Jul           Sep           2021-07   \n",
              "7   2021-02-04   2021-02-05          Feb           Feb           2021-02   \n",
              "8   2021-01-07   2021-01-07          Jan           Jan           2021-01   \n",
              "13  2021-02-06   2021-02-07          Feb           Feb           2021-02   \n",
              "\n",
              "   Outcome Month/Year  \n",
              "0             2021-09  \n",
              "1             2021-09  \n",
              "7             2021-02  \n",
              "8             2021-01  \n",
              "13            2021-02  "
            ],
            "text/html": [
              "\n",
              "  <div id=\"df-76737948-15f2-4c3a-a259-b22e921fd915\">\n",
              "    <div class=\"colab-df-container\">\n",
              "      <div>\n",
              "<style scoped>\n",
              "    .dataframe tbody tr th:only-of-type {\n",
              "        vertical-align: middle;\n",
              "    }\n",
              "\n",
              "    .dataframe tbody tr th {\n",
              "        vertical-align: top;\n",
              "    }\n",
              "\n",
              "    .dataframe thead th {\n",
              "        text-align: right;\n",
              "    }\n",
              "</style>\n",
              "<table border=\"1\" class=\"dataframe\">\n",
              "  <thead>\n",
              "    <tr style=\"text-align: right;\">\n",
              "      <th></th>\n",
              "      <th>Intake Date</th>\n",
              "      <th>Outcome Date</th>\n",
              "      <th>Intake Month</th>\n",
              "      <th>Outcome Month</th>\n",
              "      <th>Intake Month/Year</th>\n",
              "      <th>Outcome Month/Year</th>\n",
              "    </tr>\n",
              "  </thead>\n",
              "  <tbody>\n",
              "    <tr>\n",
              "      <th>0</th>\n",
              "      <td>2021-09-08</td>\n",
              "      <td>2021-09-11</td>\n",
              "      <td>Sep</td>\n",
              "      <td>Sep</td>\n",
              "      <td>2021-09</td>\n",
              "      <td>2021-09</td>\n",
              "    </tr>\n",
              "    <tr>\n",
              "      <th>1</th>\n",
              "      <td>2021-07-24</td>\n",
              "      <td>2021-09-11</td>\n",
              "      <td>Jul</td>\n",
              "      <td>Sep</td>\n",
              "      <td>2021-07</td>\n",
              "      <td>2021-09</td>\n",
              "    </tr>\n",
              "    <tr>\n",
              "      <th>7</th>\n",
              "      <td>2021-02-04</td>\n",
              "      <td>2021-02-05</td>\n",
              "      <td>Feb</td>\n",
              "      <td>Feb</td>\n",
              "      <td>2021-02</td>\n",
              "      <td>2021-02</td>\n",
              "    </tr>\n",
              "    <tr>\n",
              "      <th>8</th>\n",
              "      <td>2021-01-07</td>\n",
              "      <td>2021-01-07</td>\n",
              "      <td>Jan</td>\n",
              "      <td>Jan</td>\n",
              "      <td>2021-01</td>\n",
              "      <td>2021-01</td>\n",
              "    </tr>\n",
              "    <tr>\n",
              "      <th>13</th>\n",
              "      <td>2021-02-06</td>\n",
              "      <td>2021-02-07</td>\n",
              "      <td>Feb</td>\n",
              "      <td>Feb</td>\n",
              "      <td>2021-02</td>\n",
              "      <td>2021-02</td>\n",
              "    </tr>\n",
              "  </tbody>\n",
              "</table>\n",
              "</div>\n",
              "      <button class=\"colab-df-convert\" onclick=\"convertToInteractive('df-76737948-15f2-4c3a-a259-b22e921fd915')\"\n",
              "              title=\"Convert this dataframe to an interactive table.\"\n",
              "              style=\"display:none;\">\n",
              "        \n",
              "  <svg xmlns=\"http://www.w3.org/2000/svg\" height=\"24px\"viewBox=\"0 0 24 24\"\n",
              "       width=\"24px\">\n",
              "    <path d=\"M0 0h24v24H0V0z\" fill=\"none\"/>\n",
              "    <path d=\"M18.56 5.44l.94 2.06.94-2.06 2.06-.94-2.06-.94-.94-2.06-.94 2.06-2.06.94zm-11 1L8.5 8.5l.94-2.06 2.06-.94-2.06-.94L8.5 2.5l-.94 2.06-2.06.94zm10 10l.94 2.06.94-2.06 2.06-.94-2.06-.94-.94-2.06-.94 2.06-2.06.94z\"/><path d=\"M17.41 7.96l-1.37-1.37c-.4-.4-.92-.59-1.43-.59-.52 0-1.04.2-1.43.59L10.3 9.45l-7.72 7.72c-.78.78-.78 2.05 0 2.83L4 21.41c.39.39.9.59 1.41.59.51 0 1.02-.2 1.41-.59l7.78-7.78 2.81-2.81c.8-.78.8-2.07 0-2.86zM5.41 20L4 18.59l7.72-7.72 1.47 1.35L5.41 20z\"/>\n",
              "  </svg>\n",
              "      </button>\n",
              "      \n",
              "  <style>\n",
              "    .colab-df-container {\n",
              "      display:flex;\n",
              "      flex-wrap:wrap;\n",
              "      gap: 12px;\n",
              "    }\n",
              "\n",
              "    .colab-df-convert {\n",
              "      background-color: #E8F0FE;\n",
              "      border: none;\n",
              "      border-radius: 50%;\n",
              "      cursor: pointer;\n",
              "      display: none;\n",
              "      fill: #1967D2;\n",
              "      height: 32px;\n",
              "      padding: 0 0 0 0;\n",
              "      width: 32px;\n",
              "    }\n",
              "\n",
              "    .colab-df-convert:hover {\n",
              "      background-color: #E2EBFA;\n",
              "      box-shadow: 0px 1px 2px rgba(60, 64, 67, 0.3), 0px 1px 3px 1px rgba(60, 64, 67, 0.15);\n",
              "      fill: #174EA6;\n",
              "    }\n",
              "\n",
              "    [theme=dark] .colab-df-convert {\n",
              "      background-color: #3B4455;\n",
              "      fill: #D2E3FC;\n",
              "    }\n",
              "\n",
              "    [theme=dark] .colab-df-convert:hover {\n",
              "      background-color: #434B5C;\n",
              "      box-shadow: 0px 1px 3px 1px rgba(0, 0, 0, 0.15);\n",
              "      filter: drop-shadow(0px 1px 2px rgba(0, 0, 0, 0.3));\n",
              "      fill: #FFFFFF;\n",
              "    }\n",
              "  </style>\n",
              "\n",
              "      <script>\n",
              "        const buttonEl =\n",
              "          document.querySelector('#df-76737948-15f2-4c3a-a259-b22e921fd915 button.colab-df-convert');\n",
              "        buttonEl.style.display =\n",
              "          google.colab.kernel.accessAllowed ? 'block' : 'none';\n",
              "\n",
              "        async function convertToInteractive(key) {\n",
              "          const element = document.querySelector('#df-76737948-15f2-4c3a-a259-b22e921fd915');\n",
              "          const dataTable =\n",
              "            await google.colab.kernel.invokeFunction('convertToInteractive',\n",
              "                                                     [key], {});\n",
              "          if (!dataTable) return;\n",
              "\n",
              "          const docLinkHtml = 'Like what you see? Visit the ' +\n",
              "            '<a target=\"_blank\" href=https://colab.research.google.com/notebooks/data_table.ipynb>data table notebook</a>'\n",
              "            + ' to learn more about interactive tables.';\n",
              "          element.innerHTML = '';\n",
              "          dataTable['output_type'] = 'display_data';\n",
              "          await google.colab.output.renderOutput(dataTable, element);\n",
              "          const docLink = document.createElement('div');\n",
              "          docLink.innerHTML = docLinkHtml;\n",
              "          element.appendChild(docLink);\n",
              "        }\n",
              "      </script>\n",
              "    </div>\n",
              "  </div>\n",
              "  "
            ]
          },
          "metadata": {},
          "execution_count": 21
        }
      ]
    },
    {
      "cell_type": "markdown",
      "source": [
        "# Data Exploration and Visualization"
      ],
      "metadata": {
        "id": "qXg0bmABzqV5"
      }
    },
    {
      "cell_type": "markdown",
      "source": [
        "Our main two questions are: 'What affects adoption rates/give-up rates?' and 'What affects death rates?'\n",
        "\n",
        "To start off, we focus on factors that could alter adoption/give-up rates."
      ],
      "metadata": {
        "id": "8IaUv29CIsvG"
      }
    },
    {
      "cell_type": "markdown",
      "source": [
        "For example, does time affect these rates?\n",
        "\n",
        "More specifically, how does month affect adoption rates?"
      ],
      "metadata": {
        "id": "IgTZXk41Gblu"
      }
    },
    {
      "cell_type": "code",
      "source": [
        "df_adoption = df[(df['Outcome Type'] == 'ADOPTION') & (df['Outcome Date'].dt.year < 2022)]\n",
        "pd.crosstab(df_adoption['Outcome Month'], df_adoption['Outcome Type']).plot.bar()\n",
        "plt.title('Count of Adoptions Grouped by Months')\n",
        "plt.ylabel('Count of Adoptions');"
      ],
      "metadata": {
        "colab": {
          "base_uri": "https://localhost:8080/",
          "height": 306
        },
        "id": "0PsAseNbGfD2",
        "outputId": "aa43c0f5-78cd-47c7-9de4-926694e310d9"
      },
      "execution_count": 22,
      "outputs": [
        {
          "output_type": "display_data",
          "data": {
            "text/plain": [
              "<Figure size 432x288 with 1 Axes>"
            ],
            "image/png": "[encoded data removed]"
          },
          "metadata": {
            "needs_background": "light"
          }
        }
      ]
    },
    {
      "cell_type": "markdown",
      "source": [
        "In order to get an equal amount of months, these months range from Januaray 2014 to December 2021.\n",
        "\n",
        "Generally, it seems more people are willing to adopt towards the beginning half of the year rather than the end half of the year.\n",
        "\n",
        "December is surprising as its one of the months containing fewer dogs adopted and we initially assumed more dogs would be adopted for the major holidays like Christmas.\n",
        "\n",
        "Though we see that there is a trend of adoption happening more towards the beginning of the year, the amount of all adoptions for all months are very similar so it seems that time does not have a large impact on adoption rates."
      ],
      "metadata": {
        "id": "z_tx_cl5HV8L"
      }
    },
    {
      "cell_type": "markdown",
      "source": [
        "On the other end of adoption, how does month affect give up rates?"
      ],
      "metadata": {
        "id": "WXBggpokcNS7"
      }
    },
    {
      "cell_type": "code",
      "source": [
        "df_giveup = df[(df['Intake Type'].isin(['OWNER SURRENDER', 'ADOPTION RETURN'])) & (df['Outcome Date'].dt.year < 2022)]\n",
        "pd.crosstab(df_giveup['Intake Month'], df_giveup['Intake Type']).plot.bar(stacked=True)\n",
        "plt.legend(loc='upper left')\n",
        "plt.ylim(0,200)\n",
        "plt.title('Count of Giveup Grouped by Months')\n",
        "plt.ylabel('Count of Giveups');"
      ],
      "metadata": {
        "colab": {
          "base_uri": "https://localhost:8080/",
          "height": 306
        },
        "id": "1VeOsvvVcEGJ",
        "outputId": "5db89908-9451-47f9-81e3-d7ec075feea3"
      },
      "execution_count": 23,
      "outputs": [
        {
          "output_type": "display_data",
          "data": {
            "text/plain": [
              "<Figure size 432x288 with 1 Axes>"
            ],
            "image/png": "[encoded data removed]"
          },
          "metadata": {
            "needs_background": "light"
          }
        }
      ]
    },
    {
      "cell_type": "markdown",
      "source": [
        "In order to get an equal amount of months, these months range from Januaray 2014 to December 2021.\n",
        "\n",
        "As stated before, the term 'Give up' refers to when an owner willingly gives up the dog and this includes the values, 'ADOPTION RETURN' and 'OWNER SURRENDER'.\n",
        "\n",
        "Generally, it seems more people are returning dogs towards the beginning half of the year and are returning them less towards the end half of the year.\n",
        "\n",
        "Because there is more of a larger variance in the number of giveups for each of the months, it seems that time has a bigger impact on give ups than it does for adoption."
      ],
      "metadata": {
        "id": "R2wUOE9ccrJv"
      }
    },
    {
      "cell_type": "markdown",
      "source": [
        "Both adoption and return rates are highest towards the beginning of the year. \n",
        "\n",
        "This is a bit surprising as we originally thought that it would be the opposite (adoption highest at the beginning of the year and return highest at the end of the year)."
      ],
      "metadata": {
        "id": "DfDODc57e1kN"
      }
    },
    {
      "cell_type": "markdown",
      "source": [
        "We've observed time's relation to adoption/give-up rates.\n",
        "Now how does an animal's biological data (age, health, sex, size) affect their adoption/give-up rates?\n"
      ],
      "metadata": {
        "id": "dI1NYCzS0XG2"
      }
    },
    {
      "cell_type": "markdown",
      "source": [
        "How does age affect adoption rate?"
      ],
      "metadata": {
        "id": "I4LNAYUs0mKS"
      }
    },
    {
      "cell_type": "code",
      "source": [
        "(df_adoption['Age'].value_counts() / df['Age'].value_counts()).round(3).plot.bar()\n",
        "plt.title('Adoption Rates Over Age')\n",
        "plt.ylabel('Fraction of Adoptions')\n",
        "plt.xlabel('Age');"
      ],
      "metadata": {
        "colab": {
          "base_uri": "https://localhost:8080/",
          "height": 298
        },
        "id": "tHgtyGsU5SZo",
        "outputId": "f688f5c2-2326-4f90-fd0b-02327d0a4cf8"
      },
      "execution_count": 24,
      "outputs": [
        {
          "output_type": "display_data",
          "data": {
            "text/plain": [
              "<Figure size 432x288 with 1 Axes>"
            ],
            "image/png": "[encoded data removed]"
          },
          "metadata": {
            "needs_background": "light"
          }
        }
      ]
    },
    {
      "cell_type": "markdown",
      "source": [
        "We use the same df_adoption set even though it doesn't include the year 2022 because the size of the df_adoption is the same regardless whether we include the year 2022 or not.\n",
        "\n",
        "This graph tell us that how many dogs were adopted respective of their age group. For example, for all dogs in the shelter that were less than 1 year old, a whopping 60% of those dogs were adopted.\n",
        "\n",
        "We also see that dogs that are well in into their middle ages (around 5-7 years old) are the next biggest group likely to be adopted. \n",
        "\n",
        "Generally, newborns have a much higher tendency to get adopted. Suprisngly, dogs who are past their newborn age but not yet reaching their middle ages (around 1-4 years) are adopted less than those in their middle ages (5-7 years).\n",
        "\n",
        "This tells us that people would either prefer to have dogs in their newborn stage or into their mature middle age years.\n",
        "\n",
        "We expected less people to adopt older dogs as we thought the mentality of people was that they intend and expect to take care of the dog they adopted for many years and this graph confirms that older elder dogs are adopted even less. Though there were dogs reported to be around 24-26 years told, there were no records of adoption for them."
      ],
      "metadata": {
        "id": "eVJ4vN1o0uUC"
      }
    },
    {
      "cell_type": "markdown",
      "source": [
        "How does age affect give-up rates?"
      ],
      "metadata": {
        "id": "HWQlC6RE02yL"
      }
    },
    {
      "cell_type": "code",
      "source": [
        "(df_giveup['Age'].value_counts() / df['Age'].value_counts()).round(3).plot.bar()\n",
        "plt.title('Giveup Rates Over Age')\n",
        "plt.ylabel('Fraction of Giveups')\n",
        "plt.xlabel('Age');"
      ],
      "metadata": {
        "id": "wYDuCidE05bS",
        "colab": {
          "base_uri": "https://localhost:8080/",
          "height": 298
        },
        "outputId": "bda48845-e826-4001-89df-f1dd16cca02a"
      },
      "execution_count": 25,
      "outputs": [
        {
          "output_type": "display_data",
          "data": {
            "text/plain": [
              "<Figure size 432x288 with 1 Axes>"
            ],
            "image/png": "[encoded data removed]"
          },
          "metadata": {
            "needs_background": "light"
          }
        }
      ]
    },
    {
      "cell_type": "markdown",
      "source": [
        "As with df_adoption, we use the same df_giveup set even though it doesn't include the year 2022 because the size of the df_giveup is the same regardless whether we include the year 2022 or not.\n",
        "\n",
        "This graph tell us how many dogs were given up respective of their age group. For example, for all dogs in the shelter that are 1 year old, around 17% of them were given up.\n",
        "\n",
        "Originally, we thought that the more younger (newborn) or older the dog, that more give-ups would happen as we assumed based on experience that health is more rocky with those ages and we assumed that people would give up pets if they cannot take care of them anymore.\n",
        "\n",
        "The graph shows us however, that newborns make up one of the smaller categories of the ones given up. With dogs around 17 or 19 years of age also making up the smaller categories.\n",
        "\n",
        "Generally, it seems that out of all the give-ups (both owner surrender and adoption return), give-ups are highest at 1 year of age and overall decline as the dog gets older.\n"
      ],
      "metadata": {
        "id": "fXaxp-Bu07Mq"
      }
    },
    {
      "cell_type": "markdown",
      "source": [
        "How does health affect adoption rates?"
      ],
      "metadata": {
        "id": "T3pSfZCs1a0-"
      }
    },
    {
      "cell_type": "code",
      "source": [
        "(df_adoption['Outcome Condition'].value_counts() / df['Outcome Condition'].value_counts()).round(3).dropna().plot.barh()\n",
        "plt.title('Adoption Rates Over Health')\n",
        "plt.ylabel('Outcome Condition')\n",
        "plt.xlabel('Fraction of Adoptions');"
      ],
      "metadata": {
        "id": "cdIoUg461ASl",
        "colab": {
          "base_uri": "https://localhost:8080/",
          "height": 295
        },
        "outputId": "553a06f0-08d6-47bb-c986-6a851384fb3f"
      },
      "execution_count": 26,
      "outputs": [
        {
          "output_type": "display_data",
          "data": {
            "text/plain": [
              "<Figure size 432x288 with 1 Axes>"
            ],
            "image/png": "[encoded data removed]"
          },
          "metadata": {
            "needs_background": "light"
          }
        }
      ]
    },
    {
      "cell_type": "markdown",
      "source": [
        "This graph tell us how many dogs were adopted respective of their health on outcome. For example, for all dogs in the shelter that are healthy, around 37% of them were adopted.\n",
        "\n",
        "As expected, people generally want to pick dogs that are in good condition to be adopted.\n",
        "\n",
        "Surprisingly, known unhealthy dogs are adopted more than those whose health status is unknown. We predict this is because some people might be willingly choosing unhealthy dogs so that their last days are not spent in a shelter."
      ],
      "metadata": {
        "id": "pci0_rem1Bzb"
      }
    },
    {
      "cell_type": "markdown",
      "source": [
        "How does health affect give-up rates?"
      ],
      "metadata": {
        "id": "q_Oqs_e71d1W"
      }
    },
    {
      "cell_type": "code",
      "source": [
        "(df_giveup['Intake Condition'].value_counts() / df['Intake Condition'].value_counts()).round(3).dropna().plot.barh()\n",
        "plt.title('Giveup Rates Over Health')\n",
        "plt.ylabel('Intake Condition')\n",
        "plt.xlabel('Fraction of Giveups');"
      ],
      "metadata": {
        "id": "5_IYG1qI1irW",
        "colab": {
          "base_uri": "https://localhost:8080/",
          "height": 295
        },
        "outputId": "3f04519c-bbf0-4c52-c1a6-aed8c3065779"
      },
      "execution_count": 27,
      "outputs": [
        {
          "output_type": "display_data",
          "data": {
            "text/plain": [
              "<Figure size 432x288 with 1 Axes>"
            ],
            "image/png": "[encoded data removed]"
          },
          "metadata": {
            "needs_background": "light"
          }
        }
      ]
    },
    {
      "cell_type": "markdown",
      "source": [
        "This graph tell us how many dogs were given up respective of their health when taken in. For example, for all dogs in the shelter that came in healthy, around 14% of those were given up.\n",
        "\n",
        "As expected, people generally give up dogs that are unhealthy. Surprsingly, more dogs that are known to be healthy are given up more than dogs whose health's status was a mystery at that moment.\n",
        "\n",
        "This could be due to an underlying hidden factor like behavioral issues. Generally if a dog is in a good condition but is too much to handle behavior-wise, a person would give that dog up."
      ],
      "metadata": {
        "id": "WYXs4ytbFG2_"
      }
    },
    {
      "cell_type": "markdown",
      "source": [
        "How does sex affect adoption rates?"
      ],
      "metadata": {
        "id": "HTJlUu4n1p6w"
      }
    },
    {
      "cell_type": "code",
      "source": [
        "(df_adoption['Sex'].value_counts() / df['Sex'].value_counts()).round(3).sort_values(ascending=False).dropna()"
      ],
      "metadata": {
        "id": "g6_7kW791t1E",
        "colab": {
          "base_uri": "https://localhost:8080/"
        },
        "outputId": "71e77404-587c-49b8-e854-2efba40d0e94"
      },
      "execution_count": 28,
      "outputs": [
        {
          "output_type": "execute_result",
          "data": {
            "text/plain": [
              "Spayed      0.438\n",
              "Neutered    0.378\n",
              "Male        0.002\n",
              "Female      0.001\n",
              "Name: Sex, dtype: float64"
            ]
          },
          "metadata": {},
          "execution_count": 28
        }
      ]
    },
    {
      "cell_type": "markdown",
      "source": [
        "Out of all the dogs who are spayed, less then half of them get adopted.\n",
        "Around 38% of those neutered get adopted, and a measly 0.02% and 0.01% are male and female resepectively.\n",
        "\n",
        "Generally, it seems that most people will adopt spayed females over their neutered male counterparts.\n",
        "\n",
        "It also makes sense that non-spayed females and non-males are so low as the shelter will most likely spay or neuter dogs taken in there."
      ],
      "metadata": {
        "id": "Lwk5hCY71yQK"
      }
    },
    {
      "cell_type": "markdown",
      "source": [
        "How does sex affect give-up rates?"
      ],
      "metadata": {
        "id": "h6U27V1m17g6"
      }
    },
    {
      "cell_type": "code",
      "source": [
        "(df_giveup['Sex'].value_counts() / df['Sex'].value_counts()).round(3).sort_values(ascending=False).dropna()"
      ],
      "metadata": {
        "id": "sE5K6BU_1ucK",
        "colab": {
          "base_uri": "https://localhost:8080/"
        },
        "outputId": "a9b428b4-d1b4-4229-971f-6646a76e3e6e"
      },
      "execution_count": 29,
      "outputs": [
        {
          "output_type": "execute_result",
          "data": {
            "text/plain": [
              "Spayed      0.173\n",
              "Neutered    0.163\n",
              "Female      0.083\n",
              "Male        0.068\n",
              "Name: Sex, dtype: float64"
            ]
          },
          "metadata": {},
          "execution_count": 29
        }
      ]
    },
    {
      "cell_type": "markdown",
      "source": [
        "Out of all the dogs who are spayed, around 17% of those dogs are given up.\n",
        "Because the percentages of those spayed and neutered are so close, it seems that the fact that they are spayed/neutered does not matter too much in an owner's choice to give them up.\n",
        "\n",
        "Surprinsly, non-spayed females and non-neutured are lower than spayed and neutered. It seems that owners tend to keep those non-neutered or non-spayed more. A situation that could explain this is the dogs having kids and the owner being unwilling to separate the kids from their parents.\n",
        "\n",
        "Overall, it seems that non-neutered or non-spayed dogs are equally less likely to be given up than their spayed or neutered counterparts.\n",
        "\n"
      ],
      "metadata": {
        "id": "1bSL1wPN11Pj"
      }
    },
    {
      "cell_type": "markdown",
      "source": [
        "How does size affect adoption rates?"
      ],
      "metadata": {
        "id": "_PITdHMi2DN9"
      }
    },
    {
      "cell_type": "code",
      "source": [
        "(df_adoption['Size'].value_counts() / df['Size'].value_counts()).round(3).sort_values(ascending=False)"
      ],
      "metadata": {
        "id": "Csbd595B1wNe",
        "colab": {
          "base_uri": "https://localhost:8080/"
        },
        "outputId": "103bcc16-57f8-4c25-ae9a-ec02586e2fcb"
      },
      "execution_count": 30,
      "outputs": [
        {
          "output_type": "execute_result",
          "data": {
            "text/plain": [
              "PUPPY    0.623\n",
              "TOY      0.405\n",
              "SMALL    0.347\n",
              "MED      0.242\n",
              "LARGE    0.190\n",
              "X-LRG    0.135\n",
              "Name: Size, dtype: float64"
            ]
          },
          "metadata": {},
          "execution_count": 30
        }
      ]
    },
    {
      "cell_type": "markdown",
      "source": [
        "Out of all the dogs who are puppy-sized, a whopping 62% of those get adopted. Followed by toy, then small, then medium, and large, and extra large.\n",
        "\n",
        "Generally, it seems that the smaller the dog, the higher chance it has of being adopted.\n",
        "\n",
        "This makes sense as bigger dogs (especially extra large ones) require a lot more care and definitely need more exercise (1+ hour walks, etc.) in order to stay healthy which a lot of people can't afford the time to do."
      ],
      "metadata": {
        "id": "y9XvEgmC11uD"
      }
    },
    {
      "cell_type": "markdown",
      "source": [
        "How does size affect give-up rates?"
      ],
      "metadata": {
        "id": "HLrRaBwp2GeK"
      }
    },
    {
      "cell_type": "code",
      "source": [
        "(df_giveup['Size'].value_counts() / df['Size'].value_counts()).round(3).sort_values(ascending=False)"
      ],
      "metadata": {
        "id": "tAz8cygu1v7Z",
        "colab": {
          "base_uri": "https://localhost:8080/"
        },
        "outputId": "6c8c649b-27e6-4e8b-812a-bb99a713749c"
      },
      "execution_count": 31,
      "outputs": [
        {
          "output_type": "execute_result",
          "data": {
            "text/plain": [
              "PUPPY    0.301\n",
              "TOY      0.166\n",
              "LARGE    0.145\n",
              "SMALL    0.118\n",
              "MED      0.115\n",
              "X-LRG    0.060\n",
              "Name: Size, dtype: float64"
            ]
          },
          "metadata": {},
          "execution_count": 31
        }
      ]
    },
    {
      "cell_type": "markdown",
      "source": [
        "Unfortunately puppy-sized dogs are the biggest category again out of all the dogs who are puppy-sized, about 30% of them are given up.\n",
        "\n",
        "Surprisingly by a little margin, large dogs are given up more than small or medium dogs.\n",
        "\n",
        "It seems that toy, large, small, and medium dogs have around the same chance to be given up. Puppy largely outclasses these categories and extra large dogs seem to have the best chance at not being given up once acquired."
      ],
      "metadata": {
        "id": "t-z-X0lz12RA"
      }
    },
    {
      "cell_type": "markdown",
      "source": [
        "Lastly, for the adoption/give-up rates, did COVID-19 have an effect?"
      ],
      "metadata": {
        "id": "dEkGFtWn2Itm"
      }
    },
    {
      "cell_type": "markdown",
      "source": [
        "How does COVID-19 affect adoption rates?"
      ],
      "metadata": {
        "id": "z2y7paFA2SoR"
      }
    },
    {
      "cell_type": "code",
      "source": [
        "df['Outcome Dates'] = df['Outcome Date']\n",
        "df.set_index('Outcome Date', inplace=True)\n",
        "df.sort_index(inplace=True)\n",
        "df[df['Outcome Type'] == 'ADOPTION'].resample('M').size().plot()\n",
        "plt.title('Adoption Rates Over Time');\n",
        "plt.ylabel('Count of Adoptions');"
      ],
      "metadata": {
        "id": "iBUYHM8L1xPz",
        "colab": {
          "base_uri": "https://localhost:8080/",
          "height": 295
        },
        "outputId": "f0e670b6-d8dc-45e8-d3bf-433c66575956"
      },
      "execution_count": 32,
      "outputs": [
        {
          "output_type": "display_data",
          "data": {
            "text/plain": [
              "<Figure size 432x288 with 1 Axes>"
            ],
            "image/png": "[encoded data removed]"
          },
          "metadata": {
            "needs_background": "light"
          }
        }
      ]
    },
    {
      "cell_type": "markdown",
      "source": [
        "It seems that generally over time, adoption rates have decreased.\n",
        "\n",
        "As we are more focused on COVID-19 affecting adoption rates, we will look at that section of time from its peak (March 2020) to now.\n",
        "\n",
        "As each year is split into 4 month sections, there seems to be a very dramatic drop starting on March 2020 which had around 30 adoptions down to 1-4 adoptions during April 2020. This trend stays in this 1-4 range from April 2020 to Decemeber 2020.\n",
        "\n",
        "As 2021 comes around, the amount of adoptions happening picks up again.\n",
        "\n",
        "It is likely that many counties had shelter-in-place orders during the peak of the pandemic (2020) which caused the amount of adoptions to drop drastically until 2021 where mandates were beginning to be lifted."
      ],
      "metadata": {
        "id": "Wn82SbAN12lt"
      }
    },
    {
      "cell_type": "markdown",
      "source": [
        "How does COVID-19 affect give-up rates?"
      ],
      "metadata": {
        "id": "sW0Js51X2XXS"
      }
    },
    {
      "cell_type": "code",
      "source": [
        "df.set_index('Intake Date', inplace=True)\n",
        "df.sort_index(inplace=True)\n",
        "df[(df['Intake Type'] == 'ADOPTION RETURN') | (df['Intake Type'] == 'OWNER SURRENDER')].resample('M').size().plot()\n",
        "plt.title('Giveup Rates Over Time')\n",
        "plt.ylabel('Count of Giveups');"
      ],
      "metadata": {
        "id": "iuZk1K-u2bBm",
        "colab": {
          "base_uri": "https://localhost:8080/",
          "height": 295
        },
        "outputId": "f8f8b74b-0df6-482d-9a05-62eb5c056d2f"
      },
      "execution_count": 33,
      "outputs": [
        {
          "output_type": "display_data",
          "data": {
            "text/plain": [
              "<Figure size 432x288 with 1 Axes>"
            ],
            "image/png": "[encoded data removed]"
          },
          "metadata": {
            "needs_background": "light"
          }
        }
      ]
    },
    {
      "cell_type": "markdown",
      "source": [
        "It seems that generally over time, give up rates have decreased. There are up-spikes that tend to happen during the middle of any year.\n",
        "\n",
        "As we are more focused on COVID-19 affecting giveups, we will look at that section of time from its peak (March 2020) to now.\n",
        "\n",
        "As each year is split into 4 month sections, there seems to be a very dramatic drop starting on Janurary 2020 which had around 30 giveups down to 1-2 adoptions during the end of March 2020 (the peak) and the beginning of April 2020.\n",
        "\n",
        "As 2020 goes on, the amount of giveups increases towards the summer of 2020. During the fall of 2020, we see a decrease before giveups pick up again during the begininng majority of 2021.\n",
        "\n",
        "\n",
        "It is likely as more people were dealing with the after-effects of COVID at this time (a few months after the peak of COVID) that that those effects have left many people disabled and therefore unable to take care of their pets."
      ],
      "metadata": {
        "id": "mZcXdBVp2cB2"
      }
    },
    {
      "cell_type": "markdown",
      "source": [
        "On to our second main question, 'what affect death rates'?\n",
        "To start off, we focus on factors that could alter death rates?"
      ],
      "metadata": {
        "id": "KhwlmGKl20jF"
      }
    },
    {
      "cell_type": "markdown",
      "source": [
        "For example, does biological data on intake affect death rates?\n",
        "\n",
        "More specifically, how does age affect death rates?"
      ],
      "metadata": {
        "id": "2Hfy--Bs3Dse"
      }
    },
    {
      "cell_type": "code",
      "source": [
        "df_dead = df[(df['Outcome Type'] == 'EUTHANIZE') | (df['Outcome Type'] == 'DIED')]\n",
        "(df_dead['Age'].value_counts() / df['Age'].value_counts()).round(3).dropna().plot.bar()\n",
        "plt.title('Death Rates Over Age')\n",
        "plt.ylabel('Fraction of Deaths')\n",
        "plt.xlabel('Age');"
      ],
      "metadata": {
        "id": "xj5TBP873RE-",
        "colab": {
          "base_uri": "https://localhost:8080/",
          "height": 298
        },
        "outputId": "b867799c-1a09-4427-8ae8-c45cb9bf3fd5"
      },
      "execution_count": 34,
      "outputs": [
        {
          "output_type": "display_data",
          "data": {
            "text/plain": [
              "<Figure size 432x288 with 1 Axes>"
            ],
            "image/png": "[encoded data removed]"
          },
          "metadata": {
            "needs_background": "light"
          }
        }
      ]
    },
    {
      "cell_type": "markdown",
      "source": [
        "To focus on death rates, we looked at values in the 'Outcome Type' column involving euthanization and death.\n",
        "\n",
        "This graph tell us how many dogs died respective of their age. For example, for all dogs in the shelter that are 24 years, a whopping 40% of them die in the shelter or are euthanized.\n",
        "\n",
        "As expected, dogs who are younger (around 1-4 years of age) have a lesser chance of being euthanized.\n",
        "\n",
        "\n",
        "Generally, it seems that dogs around 8-19 years of age die at the shelter at the same rate. The more elderly (17-24 years of age) the dog, the higher chance it has to die at the shelter."
      ],
      "metadata": {
        "id": "wPk9UogC3WQy"
      }
    },
    {
      "cell_type": "markdown",
      "source": [
        "How does health on intake affect death rates?"
      ],
      "metadata": {
        "id": "fkaGmrSh3ngZ"
      }
    },
    {
      "cell_type": "code",
      "source": [
        "(df_dead['Intake Condition'].value_counts() / df['Intake Condition'].value_counts()).round(3).dropna().plot.barh()\n",
        "plt.title('Death Rates Over Health')\n",
        "plt.ylabel('Income Condition')\n",
        "plt.xlabel('Fraction of Deaths');"
      ],
      "metadata": {
        "id": "v7UeEB0W3SWI",
        "colab": {
          "base_uri": "https://localhost:8080/",
          "height": 295
        },
        "outputId": "0ffc64a5-d9f8-416f-b3ca-cdaec8313799"
      },
      "execution_count": 35,
      "outputs": [
        {
          "output_type": "display_data",
          "data": {
            "text/plain": [
              "<Figure size 432x288 with 1 Axes>"
            ],
            "image/png": "[encoded data removed]"
          },
          "metadata": {
            "needs_background": "light"
          }
        }
      ]
    },
    {
      "cell_type": "markdown",
      "source": [
        "This graph tell us how many dogs died respective of their income condition. For example, for all dogs in the shelter that that came in healthy, less than 3% died at the shelter.\n",
        "\n",
        "As expected, it would seem that unhealthy dogs are being euthanized and dying more than their healthy and unknown counterparts. The fact that the fraction of dogs who died and whose health status coming in is unknown is greater than those healthy is expected as well. There are no surprises in this graph. "
      ],
      "metadata": {
        "id": "v6LmMhXX3W22"
      }
    },
    {
      "cell_type": "markdown",
      "source": [
        "Out of all deaths, what was the dog's duration of stay?"
      ],
      "metadata": {
        "id": "nEoyDTQfTpVT"
      }
    },
    {
      "cell_type": "code",
      "source": [
        "sns.violinplot(x='Outcome Type', y='Days in Shelter', data=df_dead)\n",
        "plt.yticks(np.arange(0, 600, step=50))\n",
        "plt.title('Distribution of Days Spent in Shelter for Dogs Who Ended Up Dead');"
      ],
      "metadata": {
        "colab": {
          "base_uri": "https://localhost:8080/",
          "height": 295
        },
        "id": "DIHAu5-4az5G",
        "outputId": "0858320d-0825-48c9-ee5a-3f52301460aa"
      },
      "execution_count": 36,
      "outputs": [
        {
          "output_type": "display_data",
          "data": {
            "text/plain": [
              "<Figure size 432x288 with 1 Axes>"
            ],
            "image/png": "[encoded data removed]"
          },
          "metadata": {
            "needs_background": "light"
          }
        }
      ]
    },
    {
      "cell_type": "markdown",
      "source": [
        "For both euthanizations and those who died without euthanizing, their median for days spent in the shelter are around 25 days. Both 50% of their data lies around the 25-50 day range. \n",
        "\n",
        "Dogs who end up euthanized have a much larger chance to stay for around 25-50 days in the shelter, but dogs who are euthanized also have a slim possibility of staying in the shelter for more than 150 days and up to more than 550 days.\n",
        "\n",
        "Dogs who died not to euthanization also have a bigger chance of staying around 25-50 days. They also have a bigger thance than those euthanized to stay around 100-275 days, however there is no chance for a dog whose died not to euthanization to stay more than 300 days."
      ],
      "metadata": {
        "id": "PO0lGQrWz2Ru"
      }
    },
    {
      "cell_type": "markdown",
      "source": [
        "Did COVID-19 increase the amount of ‘unhealthy’ dogs?"
      ],
      "metadata": {
        "id": "zBC1fC2-3s-h"
      }
    },
    {
      "cell_type": "code",
      "source": [
        "df[(df['Intake Condition'] == 'UNHEALTHY')].resample('M').size().plot()\n",
        "plt.title('Unhealthy Dogs At Intake Over Time')\n",
        "plt.ylabel('Count of Unhealthy Dogs on Intake');"
      ],
      "metadata": {
        "id": "O1Ot2T9D3T85",
        "colab": {
          "base_uri": "https://localhost:8080/",
          "height": 295
        },
        "outputId": "dd540ad9-0530-4a42-ef8f-027684cbd49f"
      },
      "execution_count": 37,
      "outputs": [
        {
          "output_type": "display_data",
          "data": {
            "text/plain": [
              "<Figure size 432x288 with 1 Axes>"
            ],
            "image/png": "[encoded data removed]"
          },
          "metadata": {
            "needs_background": "light"
          }
        }
      ]
    },
    {
      "cell_type": "markdown",
      "source": [
        "It seems that generally over time, the amount of unhealthy dogs being taken in  have decreased.\n",
        "\n",
        "As we are more focused on COVID-19 affecting the amount of unhealthy dogs being taken in, we will look at that section of time from its peak (March 2020) to now.\n",
        "\n",
        "As each year is split into 4 month sections, there seems to be a steep increase starting on March 2020 which hits its peak of around 15 unhealthy dogs being taken in during the summer of 2020.\n",
        "\n",
        "After the summer, there is a general decrease of unhealthy dogs being taken in but up-spikes towards the beginning and fall of 2021.\n",
        "\n",
        "It is likely that dogs did start catching COVID around the peak hence the increase of unhealthy dogs starting to happnening around that time. The decrease after could be explained that enough dogs got COVID to the point where they became resistant and they developed herd immunity."
      ],
      "metadata": {
        "id": "ZZ_f0UmD3Xyu"
      }
    },
    {
      "cell_type": "markdown",
      "source": [
        "Does adoption rates have an affect on death?"
      ],
      "metadata": {
        "id": "CB0IPsNR3xea"
      }
    },
    {
      "cell_type": "code",
      "source": [
        "df.set_index('Outcome Dates', inplace=True)\n",
        "df.sort_index(inplace=True)\n",
        "df[(df['Outcome Type'] == 'EUTHANIZE') | (df['Outcome Type'] == 'DIED')].resample('M').size().plot(color='orange', label='Death')\n",
        "df[(df['Outcome Type'] == 'ADOPTION')].resample('M').size().plot(color='blue', label='Adoption');\n",
        "plt.legend(['Death', 'Adoption'])\n",
        "plt.title('Adoption and Death Rates Over Time')\n",
        "plt.ylabel('Count of Adoption and Deaths');"
      ],
      "metadata": {
        "id": "mEHMvcgk3UMa",
        "colab": {
          "base_uri": "https://localhost:8080/",
          "height": 295
        },
        "outputId": "13103e5f-2315-4b11-d1fa-af97161288cf"
      },
      "execution_count": 38,
      "outputs": [
        {
          "output_type": "display_data",
          "data": {
            "text/plain": [
              "<Figure size 432x288 with 1 Axes>"
            ],
            "image/png": "[encoded data removed]"
          },
          "metadata": {
            "needs_background": "light"
          }
        }
      ]
    },
    {
      "cell_type": "markdown",
      "source": [
        "Generally, it seems that adoption rates follow death rates (as one increases, the other increases and vice versa).\n",
        "\n",
        "There are few choice cases where the opossite occurs. For example, around the start of 2016, there was a sharp decrease in adoption while the deaths were experiencing a slight increase. And the same happening again in the the middle of 2019.\n",
        "\n",
        "Most notable, is around 2020 where the amount of adoptions decreased so steeply that it dropped even lower than the amount of deaths during that time. As stated before, this is most likely due to COVID's shelter-in-place which required people to not to go out of their homes if necessary and therefore drastically reduced outgoings altogether."
      ],
      "metadata": {
        "id": "2U-yqESSdq8Z"
      }
    },
    {
      "cell_type": "markdown",
      "source": [
        "# Conclusion"
      ],
      "metadata": {
        "id": "KC3ENOo_zyh-"
      }
    },
    {
      "cell_type": "markdown",
      "source": [
        "From this data visualization, we observe that time does not have a big impact on adoptions, but that time does slightly impact give-ups in that more people will give up a dog during the start of the year. According to our findings with biological data, people tend to adopt newborns or middle-aged (5-7 years) dogs who are healthy and spayed and are smaller in stature. And that people tend to give-up (irrespective of sex since that did not have much of an impact), dogs who are non-newborn and non-elderly, unhealthy, and puppy-sized. In terms of COVID-19, adoptions drastically reduced during that time while give-ups increased slightly. For death rates, elderly unhealthy dogs tend to die more. We also observed that dogs who ended up dying stayed at the shelter for around 25-20 days, that COVID-19 did increase the amount of unhealthy dogs, and that generally as adoption rates increase/decrease so does death rates. All in all, from this date, the Sonoma Animal County Shelter should allocate and provide more resources to unhealthy older dogs as they have a higher chance to die and a lesser of chance of being adopted."
      ],
      "metadata": {
        "id": "9tKbfpepYpc1"
      }
    }
  ]
}